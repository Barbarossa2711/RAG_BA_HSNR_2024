{
 "cells": [
  {
   "cell_type": "code",
   "id": "initial_id",
   "metadata": {
    "collapsed": true,
    "ExecuteTime": {
     "end_time": "2024-09-13T14:15:12.799062Z",
     "start_time": "2024-09-13T14:15:12.274246Z"
    }
   },
   "source": [
    "import pymupdf\n",
    "from tqdm import tqdm\n",
    "import pandas as pd\n",
    "import os\n",
    "from pdf2image import convert_from_path\n",
    "import pytesseract"
   ],
   "outputs": [],
   "execution_count": 1
  },
  {
   "metadata": {
    "ExecuteTime": {
     "end_time": "2024-09-13T14:15:28.082015Z",
     "start_time": "2024-09-13T14:15:28.061016Z"
    }
   },
   "cell_type": "code",
   "source": [
    "def list_pdf_files(directory):\n",
    "    # Liste aller Dateien im angegebenen Verzeichnis\n",
    "    files = os.listdir(directory)\n",
    "    # Filtere die PDF-Dateien\n",
    "    pdf_files = [file for file in files if file.lower().endswith('.pdf')]\n",
    "    return pdf_files"
   ],
   "id": "1c14b503aa53314b",
   "outputs": [],
   "execution_count": 2
  },
  {
   "metadata": {},
   "cell_type": "markdown",
   "source": "# Environment variables",
   "id": "cb4e7eea1f1fa9a0"
  },
  {
   "metadata": {},
   "cell_type": "code",
   "outputs": [],
   "execution_count": null,
   "source": [
    "csv_path = \"\"   # TODO: Path to csv file containing the information of the modulhandbooks\n",
    "dir_path = \"\"   # TODO: Path to the directory containing the pdf-files\n",
    "out_dir = \"\"    # TODO: Path to the directory where the extracted text should go"
   ],
   "id": "4deda41485d9fa56"
  },
  {
   "metadata": {},
   "cell_type": "markdown",
   "source": "# Get pdf names and load reference table",
   "id": "1438a895687d038c"
  },
  {
   "metadata": {},
   "cell_type": "code",
   "outputs": [],
   "execution_count": null,
   "source": [
    "reference_table = pd.read_csv(csv_path, sep=\";\", encoding=\"latin1\")\n",
    "reference_table = reference_table.dropna()\n",
    "reference_table"
   ],
   "id": "f6b63656fc2f2a1d"
  },
  {
   "metadata": {},
   "cell_type": "code",
   "outputs": [],
   "execution_count": null,
   "source": [
    "pdfs_all = list_pdf_files(dir_path)\n",
    "# use only files, that are present in the csv\n",
    "pdfs_numbers = [name.replace(\".pdf\", \"\") for name in pdfs_all]\n",
    "# pdfs_numbers\n",
    "pdfs = [elem for elem in pdfs_numbers if elem in reference_table['identifier'].values.astype(str)]\n",
    "pdfs = [fname + \".pdf\" for fname in pdfs]"
   ],
   "id": "b8925f4e0151d0d"
  },
  {
   "metadata": {},
   "cell_type": "markdown",
   "source": "## (Optional) Create subfolders for files",
   "id": "9b6392be6253b0eb"
  },
  {
   "metadata": {},
   "cell_type": "code",
   "outputs": [],
   "execution_count": null,
   "source": [
    "#for pdf_file in tqdm(pdfs, desc=\"Creating dirs\"):\n",
    "#    pdf_dir = pdf_file.replace(\".pdf\", \"\")\n",
    "#    os.makedirs(f\"{out_dir}/{pdf_dir}\", exist_ok=True)"
   ],
   "id": "ff51afd1bb046d32"
  },
  {
   "metadata": {},
   "cell_type": "markdown",
   "source": [
    "# Save extracted content per page to subfolder\n",
    "Also identify wich pages are empty and wich document weren't able to be loaded "
   ],
   "id": "687e9494745593ac"
  },
  {
   "metadata": {},
   "cell_type": "code",
   "outputs": [],
   "execution_count": null,
   "source": [
    "unopenable_files = []\n",
    "empty_pages = []\n",
    "\n",
    "for filename in tqdm(pdfs):\n",
    "    path = os.path.join(dir_path, filename)\n",
    "    try:\n",
    "        with pymupdf.open(path) as document:\n",
    "            for page_num in range(len(document)):\n",
    "                page = document.load_page(page_num)\n",
    "                page_text = page.get_text()\n",
    "                if page_text == \"\":\n",
    "                    empty_pages.append(f\"{filename}_page_{page_num+1}\")\n",
    "                \n",
    "                #else:\n",
    "                #    with open(f\"{out_dir}/{filename.replace('.pdf', '')}/page_{page_num+1}.txt\", \"w\", encoding=\"utf-8\") as text_file:\n",
    "                #        text_file.write(page_text)\n",
    "    except Exception as e:\n",
    "        unopenable_files.append(filename)"
   ],
   "id": "3a67a3fed5aaf302"
  },
  {
   "metadata": {},
   "cell_type": "markdown",
   "source": "## Analyze empty pages",
   "id": "2d6c7e54a42574b6"
  },
  {
   "metadata": {},
   "cell_type": "code",
   "outputs": [],
   "execution_count": null,
   "source": "empty_pages",
   "id": "646d853c64074ccd"
  },
  {
   "metadata": {},
   "cell_type": "markdown",
   "source": "## Use Pytesseract to extract text from empty pages",
   "id": "feb2da6701a79ac"
  },
  {
   "metadata": {},
   "cell_type": "code",
   "outputs": [],
   "execution_count": null,
   "source": [
    "pytesseract.pytesseract.tesseract_cmd = \"\"  # TODO: Path to pytesseract\n",
    "filePath = \"\"   # TODO: File to convert (.pdf)\n",
    "outPath = \"\"    # TODO: Output path\n",
    "fileNr = \"\"   # TODO: Number of Modulhandbook\n",
    "\n",
    "doc = convert_from_path(filePath)\n",
    "path, fileName = os.path.split(filePath)\n",
    "fileBaseName, fileExtension = os.path.splitext(fileName)\n",
    "\n",
    "content = \"\"\n",
    "for page_number, page_data in tqdm(enumerate(doc), desc=\"Pages\"):\n",
    "    txt = pytesseract.image_to_string(page_data, config=\"--psm 3\")\n",
    "    content += \"\\n\\n\" + txt\n",
    "\n",
    "with open(f\"{outPath}/{fileNr}.txt\", \"w\", encoding=\"utf-8\") as file:\n",
    "    file.write(content)"
   ],
   "id": "8619f400427728b7"
  },
  {
   "metadata": {},
   "cell_type": "markdown",
   "source": "# Extract text per Modulhandbook",
   "id": "9f4b674fec3ffc65"
  },
  {
   "metadata": {},
   "cell_type": "code",
   "outputs": [],
   "execution_count": null,
   "source": [
    "for filename in tqdm(pdfs, desc=\"Extracting Handbooks\"):\n",
    "    path = os.path.join(dir_path, filename)\n",
    "    content = \"\"\n",
    "    with pymupdf.open(path) as document:\n",
    "        for page_num in range(len(document)):\n",
    "            page = document.load_page(page_num)\n",
    "            page_text = page.get_text()\n",
    "            content += page_text + \"\\n\\n\"\n",
    "                \n",
    "    with open(f\"{out_dir}/{filename.replace('.pdf', '')}.txt\", \"w\", encoding=\"utf-8\") as text_file:\n",
    "            text_file.write(content)"
   ],
   "id": "9bf802c9dcde4bac"
  }
 ],
 "metadata": {
  "kernelspec": {
   "display_name": "Python 3",
   "language": "python",
   "name": "python3"
  },
  "language_info": {
   "codemirror_mode": {
    "name": "ipython",
    "version": 2
   },
   "file_extension": ".py",
   "mimetype": "text/x-python",
   "name": "python",
   "nbconvert_exporter": "python",
   "pygments_lexer": "ipython2",
   "version": "2.7.6"
  }
 },
 "nbformat": 4,
 "nbformat_minor": 5
}
