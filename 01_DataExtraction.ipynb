{
 "cells": [
  {
   "cell_type": "code",
   "id": "initial_id",
   "metadata": {
    "collapsed": true,
    "ExecuteTime": {
     "end_time": "2024-09-14T09:56:19.782528Z",
     "start_time": "2024-09-14T09:56:18.311129Z"
    }
   },
   "source": [
    "import pymupdf\n",
    "from tqdm import tqdm\n",
    "import pandas as pd\n",
    "import os\n",
    "from pdf2image import convert_from_path\n",
    "import pytesseract"
   ],
   "outputs": [],
   "execution_count": 1
  },
  {
   "metadata": {
    "ExecuteTime": {
     "end_time": "2024-09-14T09:56:25.248606Z",
     "start_time": "2024-09-14T09:56:25.243606Z"
    }
   },
   "cell_type": "code",
   "source": [
    "def list_pdf_files(directory):\n",
    "    files = os.listdir(directory)\n",
    "    pdf_files = [file for file in files if file.lower().endswith('.pdf')]\n",
    "    return pdf_files"
   ],
   "id": "1c14b503aa53314b",
   "outputs": [],
   "execution_count": 2
  },
  {
   "metadata": {},
   "cell_type": "markdown",
   "source": "# Environment variables",
   "id": "cb4e7eea1f1fa9a0"
  },
  {
   "metadata": {
    "ExecuteTime": {
     "end_time": "2024-09-14T09:56:26.941919Z",
     "start_time": "2024-09-14T09:56:26.929919Z"
    }
   },
   "cell_type": "code",
   "source": [
    "csv_path = \"\"   # TODO: Path to csv file containing the information of the modulhandbooks\n",
    "dir_path = \"\"   # TODO: Path to the directory containing the pdf-files\n",
    "out_dir = \"\"    # TODO: Path to the directory where the extracted text should go"
   ],
   "id": "4deda41485d9fa56",
   "outputs": [],
   "execution_count": 3
  },
  {
   "metadata": {},
   "cell_type": "markdown",
   "source": "# Get pdf names and load reference table",
   "id": "1438a895687d038c"
  },
  {
   "metadata": {
    "ExecuteTime": {
     "end_time": "2024-09-14T09:56:30.664342Z",
     "start_time": "2024-09-14T09:56:30.637345Z"
    }
   },
   "cell_type": "code",
   "source": [
    "reference_table = pd.read_csv(csv_path, sep=\";\", encoding=\"latin1\")\n",
    "reference_table = reference_table.dropna()\n",
    "reference_table"
   ],
   "id": "f6b63656fc2f2a1d",
   "outputs": [
    {
     "data": {
      "text/plain": [
       "   identifier                      study_program  \\\n",
       "0           2                         Informatik   \n",
       "1           1  Computational Engineering Science   \n",
       "2           4  Computational Engineering Science   \n",
       "3           3            Automatisierungstechnik   \n",
       "\n",
       "                                          university           type  \\\n",
       "0  Rheinisch-Westfälische Technische Hochschule A...  Universitäten   \n",
       "1  Rheinisch-Westfälische Technische Hochschule A...  Universitäten   \n",
       "2  Rheinisch-Westfälische Technische Hochschule A...  Universitäten   \n",
       "3  Rheinisch-Westfälische Technische Hochschule A...  Universitäten   \n",
       "\n",
       "                       location       study_form    degree  \\\n",
       "0  Aachen / Nordrhein-Westfalen  Vollzeitstudium    Master   \n",
       "1  Aachen / Nordrhein-Westfalen  Vollzeitstudium  Bachelor   \n",
       "2  Aachen / Nordrhein-Westfalen  Vollzeitstudium    Master   \n",
       "3  Aachen / Nordrhein-Westfalen  Vollzeitstudium    Master   \n",
       "\n",
       "                                            fields  \\\n",
       "0                                       Informatik   \n",
       "1  Angewandte Mathematik, Informatik, Maschinenbau   \n",
       "2  Angewandte Mathematik, Informatik, Maschinenbau   \n",
       "3       Automatisierungstechnik, Fertigungstechnik   \n",
       "\n",
       "                                             options  \\\n",
       "0  Theoretische Informatik,Software und Kommunika...   \n",
       "1  Numerik und Simulation,Programmierung und Algo...   \n",
       "2  Verfahrenstechnik,Numerik und Simulationstechn...   \n",
       "3  Prozesstechnik,Fahrzeugtechnik,Medizintechnik,...   \n",
       "\n",
       "                                             website  \n",
       "0  http://www.rwth-aachen.de/go/id/bcfg/?#aaaaaaa...  \n",
       "1  http://www.rwth-aachen.de/go/id/bixo/?#aaaaaaa...  \n",
       "2  http://www.rwth-aachen.de/cms/root/Studium/Vor...  \n",
       "3               http://www.rwth-aachen.de/go/id/bjtg  "
      ],
      "text/html": [
       "<div>\n",
       "<style scoped>\n",
       "    .dataframe tbody tr th:only-of-type {\n",
       "        vertical-align: middle;\n",
       "    }\n",
       "\n",
       "    .dataframe tbody tr th {\n",
       "        vertical-align: top;\n",
       "    }\n",
       "\n",
       "    .dataframe thead th {\n",
       "        text-align: right;\n",
       "    }\n",
       "</style>\n",
       "<table border=\"1\" class=\"dataframe\">\n",
       "  <thead>\n",
       "    <tr style=\"text-align: right;\">\n",
       "      <th></th>\n",
       "      <th>identifier</th>\n",
       "      <th>study_program</th>\n",
       "      <th>university</th>\n",
       "      <th>type</th>\n",
       "      <th>location</th>\n",
       "      <th>study_form</th>\n",
       "      <th>degree</th>\n",
       "      <th>fields</th>\n",
       "      <th>options</th>\n",
       "      <th>website</th>\n",
       "    </tr>\n",
       "  </thead>\n",
       "  <tbody>\n",
       "    <tr>\n",
       "      <th>0</th>\n",
       "      <td>2</td>\n",
       "      <td>Informatik</td>\n",
       "      <td>Rheinisch-Westfälische Technische Hochschule A...</td>\n",
       "      <td>Universitäten</td>\n",
       "      <td>Aachen / Nordrhein-Westfalen</td>\n",
       "      <td>Vollzeitstudium</td>\n",
       "      <td>Master</td>\n",
       "      <td>Informatik</td>\n",
       "      <td>Theoretische Informatik,Software und Kommunika...</td>\n",
       "      <td>http://www.rwth-aachen.de/go/id/bcfg/?#aaaaaaa...</td>\n",
       "    </tr>\n",
       "    <tr>\n",
       "      <th>1</th>\n",
       "      <td>1</td>\n",
       "      <td>Computational Engineering Science</td>\n",
       "      <td>Rheinisch-Westfälische Technische Hochschule A...</td>\n",
       "      <td>Universitäten</td>\n",
       "      <td>Aachen / Nordrhein-Westfalen</td>\n",
       "      <td>Vollzeitstudium</td>\n",
       "      <td>Bachelor</td>\n",
       "      <td>Angewandte Mathematik, Informatik, Maschinenbau</td>\n",
       "      <td>Numerik und Simulation,Programmierung und Algo...</td>\n",
       "      <td>http://www.rwth-aachen.de/go/id/bixo/?#aaaaaaa...</td>\n",
       "    </tr>\n",
       "    <tr>\n",
       "      <th>2</th>\n",
       "      <td>4</td>\n",
       "      <td>Computational Engineering Science</td>\n",
       "      <td>Rheinisch-Westfälische Technische Hochschule A...</td>\n",
       "      <td>Universitäten</td>\n",
       "      <td>Aachen / Nordrhein-Westfalen</td>\n",
       "      <td>Vollzeitstudium</td>\n",
       "      <td>Master</td>\n",
       "      <td>Angewandte Mathematik, Informatik, Maschinenbau</td>\n",
       "      <td>Verfahrenstechnik,Numerik und Simulationstechn...</td>\n",
       "      <td>http://www.rwth-aachen.de/cms/root/Studium/Vor...</td>\n",
       "    </tr>\n",
       "    <tr>\n",
       "      <th>3</th>\n",
       "      <td>3</td>\n",
       "      <td>Automatisierungstechnik</td>\n",
       "      <td>Rheinisch-Westfälische Technische Hochschule A...</td>\n",
       "      <td>Universitäten</td>\n",
       "      <td>Aachen / Nordrhein-Westfalen</td>\n",
       "      <td>Vollzeitstudium</td>\n",
       "      <td>Master</td>\n",
       "      <td>Automatisierungstechnik, Fertigungstechnik</td>\n",
       "      <td>Prozesstechnik,Fahrzeugtechnik,Medizintechnik,...</td>\n",
       "      <td>http://www.rwth-aachen.de/go/id/bjtg</td>\n",
       "    </tr>\n",
       "  </tbody>\n",
       "</table>\n",
       "</div>"
      ]
     },
     "execution_count": 4,
     "metadata": {},
     "output_type": "execute_result"
    }
   ],
   "execution_count": 4
  },
  {
   "metadata": {
    "ExecuteTime": {
     "end_time": "2024-09-14T09:56:33.194992Z",
     "start_time": "2024-09-14T09:56:33.180993Z"
    }
   },
   "cell_type": "code",
   "source": [
    "pdfs_all = list_pdf_files(dir_path)\n",
    "# use only files, that are present in the csv\n",
    "pdfs_numbers = [name.replace(\".pdf\", \"\") for name in pdfs_all]\n",
    "# pdfs_numbers\n",
    "pdfs = [elem for elem in pdfs_numbers if elem in reference_table['identifier'].values.astype(str)]\n",
    "pdfs = [fname + \".pdf\" for fname in pdfs]"
   ],
   "id": "b8925f4e0151d0d",
   "outputs": [],
   "execution_count": 5
  },
  {
   "metadata": {},
   "cell_type": "markdown",
   "source": "## (Optional) Create subfolders for files",
   "id": "9b6392be6253b0eb"
  },
  {
   "metadata": {},
   "cell_type": "code",
   "outputs": [],
   "execution_count": null,
   "source": [
    "#for pdf_file in tqdm(pdfs, desc=\"Creating dirs\"):\n",
    "#    pdf_dir = pdf_file.replace(\".pdf\", \"\")\n",
    "#    os.makedirs(f\"{out_dir}/{pdf_dir}\", exist_ok=True)"
   ],
   "id": "ff51afd1bb046d32"
  },
  {
   "metadata": {},
   "cell_type": "markdown",
   "source": [
    "# Extract content per page (and optionally save it to subfolder)\n",
    "Also identify wich pages are empty and wich document weren't able to be loaded "
   ],
   "id": "687e9494745593ac"
  },
  {
   "metadata": {
    "ExecuteTime": {
     "end_time": "2024-09-14T09:57:17.918330Z",
     "start_time": "2024-09-14T09:57:10.762169Z"
    }
   },
   "cell_type": "code",
   "source": [
    "unopenable_files = []\n",
    "empty_pages = []\n",
    "\n",
    "for filename in tqdm(pdfs):\n",
    "    path = os.path.join(dir_path, filename)\n",
    "    try:\n",
    "        with pymupdf.open(path) as document:\n",
    "            for page_num in range(len(document)):\n",
    "                page = document.load_page(page_num)\n",
    "                page_text = page.get_text()\n",
    "                if page_text == \"\":\n",
    "                    empty_pages.append(f\"{filename}_page_{page_num+1}\")\n",
    "                \n",
    "                #else:\n",
    "                #    with open(f\"{out_dir}/{filename.replace('.pdf', '')}/page_{page_num+1}.txt\", \"w\", encoding=\"utf-8\") as text_file:\n",
    "                #        text_file.write(page_text)\n",
    "    except Exception as e:\n",
    "        unopenable_files.append(filename)"
   ],
   "id": "3a67a3fed5aaf302",
   "outputs": [
    {
     "name": "stderr",
     "output_type": "stream",
     "text": [
      "100%|██████████| 4/4 [00:07<00:00,  1.78s/it]\n"
     ]
    }
   ],
   "execution_count": 6
  },
  {
   "metadata": {},
   "cell_type": "markdown",
   "source": "## Analyze empty pages",
   "id": "2d6c7e54a42574b6"
  },
  {
   "metadata": {
    "ExecuteTime": {
     "end_time": "2024-09-14T09:57:19.815041Z",
     "start_time": "2024-09-14T09:57:19.807039Z"
    }
   },
   "cell_type": "code",
   "source": "empty_pages",
   "id": "646d853c64074ccd",
   "outputs": [
    {
     "data": {
      "text/plain": [
       "[]"
      ]
     },
     "execution_count": 7,
     "metadata": {},
     "output_type": "execute_result"
    }
   ],
   "execution_count": 7
  },
  {
   "metadata": {},
   "cell_type": "markdown",
   "source": "## Use Pytesseract to extract text from empty pages",
   "id": "feb2da6701a79ac"
  },
  {
   "metadata": {},
   "cell_type": "code",
   "outputs": [],
   "execution_count": null,
   "source": [
    "pytesseract.pytesseract.tesseract_cmd = \"\"  # TODO: Path to pytesseract\n",
    "filePath = \"\"   # TODO: File to convert (.pdf)\n",
    "outPath = \"\"    # TODO: Output path\n",
    "fileNr = \"\"   # TODO: Number of Modulhandbook\n",
    "\n",
    "doc = convert_from_path(filePath)\n",
    "path, fileName = os.path.split(filePath)\n",
    "fileBaseName, fileExtension = os.path.splitext(fileName)\n",
    "\n",
    "content = \"\"\n",
    "for page_number, page_data in tqdm(enumerate(doc), desc=\"Pages\"):\n",
    "    txt = pytesseract.image_to_string(page_data, config=\"--psm 3\")\n",
    "    content += \"\\n\\n\" + txt\n",
    "\n",
    "with open(f\"{outPath}/{fileNr}.txt\", \"w\", encoding=\"utf-8\") as file:\n",
    "    file.write(content)"
   ],
   "id": "8619f400427728b7"
  },
  {
   "metadata": {},
   "cell_type": "markdown",
   "source": "# Extract text per Modulhandbook",
   "id": "9f4b674fec3ffc65"
  },
  {
   "metadata": {
    "ExecuteTime": {
     "end_time": "2024-09-14T09:57:46.203274Z",
     "start_time": "2024-09-14T09:57:36.709526Z"
    }
   },
   "cell_type": "code",
   "source": [
    "for filename in tqdm(pdfs, desc=\"Extracting Handbooks\"):\n",
    "    path = os.path.join(dir_path, filename)\n",
    "    content = \"\"\n",
    "    with pymupdf.open(path) as document:\n",
    "        for page_num in range(len(document)):\n",
    "            page = document.load_page(page_num)\n",
    "            page_text = page.get_text()\n",
    "            content += page_text + \"\\n\\n\"\n",
    "                \n",
    "    with open(f\"{out_dir}/{filename.replace('.pdf', '')}.txt\", \"w\", encoding=\"utf-8\") as text_file:\n",
    "            text_file.write(content)"
   ],
   "id": "9bf802c9dcde4bac",
   "outputs": [
    {
     "name": "stderr",
     "output_type": "stream",
     "text": [
      "Extracting Handbooks: 100%|██████████| 4/4 [00:09<00:00,  2.37s/it]\n"
     ]
    }
   ],
   "execution_count": 8
  }
 ],
 "metadata": {
  "kernelspec": {
   "display_name": "Python 3",
   "language": "python",
   "name": "python3"
  },
  "language_info": {
   "codemirror_mode": {
    "name": "ipython",
    "version": 2
   },
   "file_extension": ".py",
   "mimetype": "text/x-python",
   "name": "python",
   "nbconvert_exporter": "python",
   "pygments_lexer": "ipython2",
   "version": "2.7.6"
  }
 },
 "nbformat": 4,
 "nbformat_minor": 5
}
