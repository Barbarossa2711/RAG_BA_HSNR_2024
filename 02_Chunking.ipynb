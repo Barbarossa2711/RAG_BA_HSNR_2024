{
 "cells": [
  {
   "cell_type": "code",
   "id": "initial_id",
   "metadata": {
    "collapsed": true,
    "ExecuteTime": {
     "end_time": "2024-09-13T15:16:52.637925Z",
     "start_time": "2024-09-13T15:16:52.258132Z"
    }
   },
   "source": [
    "import pandas as pd\n",
    "from tqdm import tqdm\n",
    "import os\n",
    "from langchain_text_splitters import RecursiveCharacterTextSplitter"
   ],
   "outputs": [],
   "execution_count": 1
  },
  {
   "metadata": {},
   "cell_type": "code",
   "outputs": [],
   "execution_count": null,
   "source": [
    "def list_txt_files(directory):\n",
    "    files = os.listdir(directory)\n",
    "    pdf_files = [file for file in files if file.lower().endswith('.txt')]\n",
    "    return pdf_files"
   ],
   "id": "7de1ee4bd102e5b6"
  },
  {
   "metadata": {},
   "cell_type": "markdown",
   "source": "# Environment variables",
   "id": "99133f2b58886d62"
  },
  {
   "metadata": {},
   "cell_type": "code",
   "outputs": [],
   "execution_count": null,
   "source": [
    "source_path = \"\"    # TODO: Path to the extracted .txt files\n",
    "csv_path = \"\"       # TODO: Path to the study_programms .csv"
   ],
   "id": "ef352d0d1cd948a"
  },
  {
   "metadata": {},
   "cell_type": "markdown",
   "source": [
    "# RecursiveCharacterTextSplitter\n",
    "For information why 512 is used, refer to https://huggingface.co/sentence-transformers/paraphrase-multilingual-MiniLM-L12-v2/blob/main/config.json"
   ],
   "id": "862ffc2b19034a69"
  },
  {
   "metadata": {},
   "cell_type": "code",
   "outputs": [],
   "execution_count": null,
   "source": [
    "recursive_splitter = RecursiveCharacterTextSplitter(\n",
    "    # for reference: the 2.69 was calculated in section \"Eval Chunk size with tokenizer\"\n",
    "    # chunk_size=688,   # 256 * 2,69 = 688,64\n",
    "    chunk_size=1377,    # 512 * 2,69\n",
    "    separators=[r\"\\n\\n+\", r\"(?<=[.?!])\\s+\", r\"[•-◦→]\\s+[^\\n]*\\n[^•-◦→]\", r\"[•-◦→]\", r\"\\.\", r\"\\n\"],\n",
    "    is_separator_regex=True,\n",
    "    chunk_overlap=146\n",
    ")"
   ],
   "id": "3fb9c2f63c8dcfcd"
  },
  {
   "metadata": {},
   "cell_type": "markdown",
   "source": "# Chunk .txt files",
   "id": "5b03ce0f98e7ddc8"
  },
  {
   "metadata": {},
   "cell_type": "code",
   "outputs": [],
   "execution_count": null,
   "source": [
    "import re\n",
    "recursive_data_list = []\n",
    "\n",
    "df_meta_data = pd.read_csv(csv_path, sep=\";\", encoding=\"latin1\")\n",
    "\n",
    "files = -1\n",
    "for file in tqdm(list_txt_files(source_path)):\n",
    "    with open(source_path + os.sep + file, 'r', encoding=\"utf-8\") as txt:\n",
    "        content = txt.read()\n",
    "    content = re.sub(r'\\s{4,}', '\\n\\n', content)\n",
    "    content = re.sub(r'\\.{3,}', '...', content)\n",
    "    # split text\n",
    "    chunks = recursive_splitter.split_text(text=content)\n",
    "    # retrieve metadata and save as own chunk\n",
    "    fnr = int(file.replace(\".txt\", \"\"))\n",
    "    metadata = df_meta_data.loc[df_meta_data['identifier'] == fnr,].reset_index(drop=True)\n",
    "    wanted_information = [\"study_program\", \"university\", \"study_form\", \"degree\", \"type\", \"identifier\", \"location\", \"website\", \"fields\"]\n",
    "    metadata_list = metadata.loc[0, wanted_information].astype(str).tolist()\n",
    "    metadata_as_str = (f\"Modulhandbuch Nr.: {metadata_list[5]}\\n\"\n",
    "                       f\"Studiengang:       {metadata_list[0]}\\n\"\n",
    "                       f\"Grad:              {metadata_list[3]}\\n\"\n",
    "                       f\"Studiengang-Form:  {metadata_list[2]}\\n\"\n",
    "                       f\"Hochschule:        {metadata_list[1]} (Typ: {metadata_list[4]})\\n\"\n",
    "                       f\"Standort:          {metadata_list[6]}\\n\"\n",
    "                       f\"Themenfelder:      {metadata_list[8]}\\n\"\n",
    "                       f\"Link:              {metadata_list[7]}\\n\")\n",
    "    file_nr = fnr\n",
    "    chunk_nr = 0\n",
    "    text = metadata_as_str\n",
    "    entry = {\n",
    "        \"file\": file_nr,\n",
    "        \"chunk\": chunk_nr,\n",
    "        \"text\": text\n",
    "    }\n",
    "    recursive_data_list.append(entry)\n",
    "    \n",
    "    for index, chunk in enumerate(chunks):\n",
    "        file_nr = int(file.replace(\".txt\", \"\"))\n",
    "        chunk_nr = index+1\n",
    "        text = chunk\n",
    "        entry = {\n",
    "            \"file\": file_nr,\n",
    "            \"chunk\": chunk_nr,\n",
    "            \"text\": text\n",
    "        }\n",
    "        recursive_data_list.append(entry)\n",
    "    if files == 0:\n",
    "        break\n",
    "    files -= 1"
   ],
   "id": "20a99300ffa05bd4"
  },
  {
   "metadata": {},
   "cell_type": "markdown",
   "source": "# Save recursive chunk list to DataFrame",
   "id": "b343b496b238cf9c"
  },
  {
   "metadata": {},
   "cell_type": "code",
   "outputs": [],
   "execution_count": null,
   "source": [
    "out_file = \"\"   # TODO: determine output file (.csv)\n",
    "\n",
    "df = pd.DataFrame(recursive_data_list)\n",
    "df.to_csv(out_file, index=False, sep=\";\", encoding='utf-8', escapechar=\"\\\\\")"
   ],
   "id": "19f305ccff8fc6dd"
  }
 ],
 "metadata": {
  "kernelspec": {
   "display_name": "Python 3",
   "language": "python",
   "name": "python3"
  },
  "language_info": {
   "codemirror_mode": {
    "name": "ipython",
    "version": 2
   },
   "file_extension": ".py",
   "mimetype": "text/x-python",
   "name": "python",
   "nbconvert_exporter": "python",
   "pygments_lexer": "ipython2",
   "version": "2.7.6"
  }
 },
 "nbformat": 4,
 "nbformat_minor": 5
}
