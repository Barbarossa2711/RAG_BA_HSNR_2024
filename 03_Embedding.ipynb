{
 "cells": [
  {
   "cell_type": "code",
   "id": "initial_id",
   "metadata": {
    "collapsed": true,
    "ExecuteTime": {
     "end_time": "2024-09-14T10:01:22.175384Z",
     "start_time": "2024-09-14T10:01:15.362333Z"
    }
   },
   "source": [
    "import pandas as pd\n",
    "import numpy as np\n",
    "from tqdm import tqdm\n",
    "from sentence_transformers import SentenceTransformer\n",
    "import json"
   ],
   "outputs": [
    {
     "name": "stderr",
     "output_type": "stream",
     "text": [
      "C:\\Users\\Anton\\AppData\\Local\\Programs\\Python\\Python39\\lib\\site-packages\\sentence_transformers\\cross_encoder\\CrossEncoder.py:11: TqdmExperimentalWarning: Using `tqdm.autonotebook.tqdm` in notebook mode. Use `tqdm.tqdm` instead to force console mode (e.g. in jupyter console)\n",
      "  from tqdm.autonotebook import tqdm, trange\n"
     ]
    }
   ],
   "execution_count": 1
  },
  {
   "metadata": {},
   "cell_type": "markdown",
   "source": "# Environment Variables",
   "id": "f51d2eca0877516d"
  },
  {
   "metadata": {
    "ExecuteTime": {
     "end_time": "2024-09-14T10:02:04.482248Z",
     "start_time": "2024-09-14T10:02:04.475248Z"
    }
   },
   "cell_type": "code",
   "source": [
    "chunks_csv_path = \"\"    # TODO: Path to the csv-file from '02_Chunking.ipynb'\n",
    "json_output_path = \"\"   # TODO: Path to the json file for upsertion to pinecone"
   ],
   "id": "ed35d1a9488deec2",
   "outputs": [],
   "execution_count": 2
  },
  {
   "metadata": {},
   "cell_type": "markdown",
   "source": "# Create embeddings of the chunks",
   "id": "6e384f03e9906030"
  },
  {
   "metadata": {
    "ExecuteTime": {
     "end_time": "2024-09-14T10:02:10.556055Z",
     "start_time": "2024-09-14T10:02:07.765341Z"
    }
   },
   "cell_type": "code",
   "source": "model = SentenceTransformer('sentence-transformers/paraphrase-multilingual-MiniLM-L12-v2')",
   "id": "6ba3c1632796251",
   "outputs": [
    {
     "name": "stderr",
     "output_type": "stream",
     "text": [
      "C:\\Users\\Anton\\AppData\\Local\\Programs\\Python\\Python39\\lib\\site-packages\\huggingface_hub\\file_download.py:1132: FutureWarning: `resume_download` is deprecated and will be removed in version 1.0.0. Downloads always resume when possible. If you want to force a new download, use `force_download=True`.\n",
      "  warnings.warn(\n"
     ]
    }
   ],
   "execution_count": 3
  },
  {
   "metadata": {
    "ExecuteTime": {
     "end_time": "2024-09-14T10:02:11.456029Z",
     "start_time": "2024-09-14T10:02:11.385033Z"
    }
   },
   "cell_type": "code",
   "source": [
    "df = pd.read_csv(chunks_csv_path, sep=\";\", encoding=\"utf-8\")\n",
    "chunks_text = df[\"text\"].tolist()"
   ],
   "id": "e7a7f8038fecd5d0",
   "outputs": [],
   "execution_count": 4
  },
  {
   "metadata": {
    "ExecuteTime": {
     "end_time": "2024-09-14T10:06:39.778544Z",
     "start_time": "2024-09-14T10:02:15.130761Z"
    }
   },
   "cell_type": "code",
   "source": [
    "# Embed\n",
    "batch_size = 128\n",
    "\n",
    "embeddings = []\n",
    "# chunks_vec = model.encode(chunks_text)\n",
    "for i in tqdm(range(0, len(chunks_text), batch_size), desc=\"Embedding Chunks...\"):\n",
    "    end = min(len(chunks_text), i+batch_size)\n",
    "    batch = chunks_text[i:end]\n",
    "    batch_embeddings = model.encode(batch)\n",
    "    embeddings.extend(batch_embeddings)"
   ],
   "id": "f1ee9599d05c50c7",
   "outputs": [
    {
     "name": "stderr",
     "output_type": "stream",
     "text": [
      "Embedding Chunks...: 100%|██████████| 79/79 [04:24<00:00,  3.35s/it]\n"
     ]
    }
   ],
   "execution_count": 5
  },
  {
   "metadata": {},
   "cell_type": "markdown",
   "source": "## (Optional) Save embeddings as .npy ",
   "id": "154db6209e659584"
  },
  {
   "metadata": {
    "ExecuteTime": {
     "end_time": "2024-09-14T10:07:28.219059Z",
     "start_time": "2024-09-14T10:07:28.191059Z"
    }
   },
   "cell_type": "code",
   "source": [
    "embeddings_path = \"\"    # TODO: Path for embeddings to be saved as .npy\n",
    "np.save(f\"{embeddings_path}/embeddings.npy\", embeddings)"
   ],
   "id": "ad07657397f6b69d",
   "outputs": [],
   "execution_count": 6
  },
  {
   "metadata": {
    "ExecuteTime": {
     "end_time": "2024-09-14T10:07:28.963865Z",
     "start_time": "2024-09-14T10:07:28.939866Z"
    }
   },
   "cell_type": "code",
   "source": [
    "# load embeddings:\n",
    "embeddings = np.load(f\"{embeddings_path}/embeddings.npy\")"
   ],
   "id": "ae450f738a241eb4",
   "outputs": [],
   "execution_count": 7
  },
  {
   "metadata": {},
   "cell_type": "markdown",
   "source": "## Identify metadata of chunk and create format for upsertion",
   "id": "f6f0a7cdad526294"
  },
  {
   "metadata": {
    "ExecuteTime": {
     "end_time": "2024-09-14T10:08:21.572774Z",
     "start_time": "2024-09-14T10:08:21.558774Z"
    }
   },
   "cell_type": "code",
   "source": [
    "def get_metadata_dict(file_nr: int) -> str:\n",
    "    \"\"\"\n",
    "    Retrives the Metadata of a modulehandbook, based on the file number.\n",
    "    :param file_nr: The file number of the modulehandbook.\n",
    "    :return: Metadatainformation as dict.\n",
    "    \"\"\"\n",
    "    df_meta_data = pd.read_csv(r\"C:\\Users\\Anton\\Desktop\\RAG-Data\\Modulhandbücher2024\\study_programs_filtered.csv\", sep=\";\", encoding=\"latin1\")\n",
    "    metadata = df_meta_data.loc[df_meta_data['identifier'] == file_nr,].reset_index(drop=True)\n",
    "    wanted_information = [\"study_program\", \"university\", \"study_form\", \"degree\", \"type\", \"identifier\", \"location\", \"website\", \"fields\"]\n",
    "    metadata_list = metadata.loc[0, wanted_information].astype(str).tolist()\n",
    "    metadata_dict = {\n",
    "            \"Modulhandbuch Nr.\": metadata_list[5],\n",
    "            \"Studiengang\": metadata_list[0],\n",
    "            \"Grad\": metadata_list[3],\n",
    "            \"Studiengang-Form\": metadata_list[2],\n",
    "            \"Hochschule\": metadata_list[1],\n",
    "            \"Typ\": metadata_list[4],\n",
    "            \"Standort\": metadata_list[6],\n",
    "            \"Themenfelder\": metadata_list[8],\n",
    "            \"Link\": metadata_list[7]\n",
    "    }\n",
    "    \n",
    "    return metadata_dict"
   ],
   "id": "be2218c759a8be34",
   "outputs": [],
   "execution_count": 8
  },
  {
   "metadata": {
    "ExecuteTime": {
     "end_time": "2024-09-14T10:16:01.190325Z",
     "start_time": "2024-09-14T10:08:25.347273Z"
    }
   },
   "cell_type": "code",
   "source": [
    "resulting_list = [] # list of embeddings per chunk with metadata\n",
    "\n",
    "for row in tqdm(df.itertuples(index=False), total=len(chunks_text), desc=\"Embedding Chunks...\"):\n",
    "    identifier = f\"mh{row[0]}ch{row[1]}\"\n",
    "    values = model.encode(row[2])\n",
    "    metadata = get_metadata_dict(row[0])\n",
    "    # create entry based on pinecone upesertion-structure\n",
    "    entry = {\n",
    "        \"id\": identifier,\n",
    "        \"values\": values,\n",
    "        \"metadata\": metadata\n",
    "    }\n",
    "    resulting_list.append(entry)    # type = ndarray"
   ],
   "id": "3298126a8c46172a",
   "outputs": [
    {
     "name": "stderr",
     "output_type": "stream",
     "text": [
      "Embedding Chunks...: 100%|██████████| 10032/10032 [07:35<00:00, 22.01it/s]\n"
     ]
    }
   ],
   "execution_count": 9
  },
  {
   "metadata": {
    "ExecuteTime": {
     "end_time": "2024-09-14T10:16:40.493717Z",
     "start_time": "2024-09-14T10:16:40.478719Z"
    }
   },
   "cell_type": "code",
   "source": [
    "def convert_ndarray_to_list(obj):\n",
    "    if isinstance(obj, np.ndarray):\n",
    "        return obj.tolist()\n",
    "    elif isinstance(obj, dict):\n",
    "        return {k: convert_ndarray_to_list(v) for k, v in obj.items()}\n",
    "    elif isinstance(obj, list):\n",
    "        return [convert_ndarray_to_list(i) for i in obj]\n",
    "    else:\n",
    "        return obj"
   ],
   "id": "62a9dae458d266a",
   "outputs": [],
   "execution_count": 10
  },
  {
   "metadata": {
    "ExecuteTime": {
     "end_time": "2024-09-14T10:16:43.065521Z",
     "start_time": "2024-09-14T10:16:42.951999Z"
    }
   },
   "cell_type": "code",
   "source": "resulting_list_converted = convert_ndarray_to_list(resulting_list)",
   "id": "4c14eced3dcebda2",
   "outputs": [],
   "execution_count": 11
  },
  {
   "metadata": {},
   "cell_type": "markdown",
   "source": "# Save embeddings with metadata per chunk as json",
   "id": "d1d23a00ab667a74"
  },
  {
   "metadata": {
    "ExecuteTime": {
     "end_time": "2024-09-14T10:16:48.665194Z",
     "start_time": "2024-09-14T10:16:45.305702Z"
    }
   },
   "cell_type": "code",
   "source": [
    "with open(json_output_path, 'w', encoding='utf-8') as f:\n",
    "    json.dump(resulting_list_converted, f, ensure_ascii=False, indent=4)"
   ],
   "id": "3a6720bbdde67a08",
   "outputs": [],
   "execution_count": 12
  }
 ],
 "metadata": {
  "kernelspec": {
   "display_name": "Python 3",
   "language": "python",
   "name": "python3"
  },
  "language_info": {
   "codemirror_mode": {
    "name": "ipython",
    "version": 2
   },
   "file_extension": ".py",
   "mimetype": "text/x-python",
   "name": "python",
   "nbconvert_exporter": "python",
   "pygments_lexer": "ipython2",
   "version": "2.7.6"
  }
 },
 "nbformat": 4,
 "nbformat_minor": 5
}
