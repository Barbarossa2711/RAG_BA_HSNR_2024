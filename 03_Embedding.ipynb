{
 "cells": [
  {
   "cell_type": "code",
   "execution_count": null,
   "id": "initial_id",
   "metadata": {
    "collapsed": true
   },
   "outputs": [],
   "source": [
    "import time\n",
    "import pandas as pd\n",
    "import numpy as np\n",
    "from tqdm import tqdm\n",
    "from sentence_transformers import SentenceTransformer\n",
    "import json"
   ]
  },
  {
   "metadata": {},
   "cell_type": "markdown",
   "source": "# Environment Variables",
   "id": "f51d2eca0877516d"
  },
  {
   "metadata": {},
   "cell_type": "code",
   "outputs": [],
   "execution_count": null,
   "source": [
    "chunks_csv_path = \"\"    # TODO: Path to the csv-file from '02_Chunking.ipynb'\n",
    "json_output_path = \"\"   # TODO: Path to the json file for upsertion to pinecone"
   ],
   "id": "ed35d1a9488deec2"
  },
  {
   "metadata": {},
   "cell_type": "markdown",
   "source": "# Create embeddings of the chunks",
   "id": "6e384f03e9906030"
  },
  {
   "metadata": {},
   "cell_type": "code",
   "outputs": [],
   "execution_count": null,
   "source": "model = SentenceTransformer('sentence-transformers/paraphrase-multilingual-MiniLM-L12-v2')",
   "id": "6ba3c1632796251"
  },
  {
   "metadata": {},
   "cell_type": "code",
   "outputs": [],
   "execution_count": null,
   "source": [
    "df = pd.read_csv(chunks_csv_path, sep=\";\", encoding=\"utf-8\")\n",
    "chunks_text = df[\"text\"].tolist()"
   ],
   "id": "e7a7f8038fecd5d0"
  },
  {
   "metadata": {},
   "cell_type": "code",
   "outputs": [],
   "execution_count": null,
   "source": [
    "# Embed\n",
    "batch_size = 128\n",
    "\n",
    "embeddings = []\n",
    "# chunks_vec = model.encode(chunks_text)\n",
    "for i in tqdm(range(0, len(chunks_text), batch_size), desc=\"Embedding Chunks...\"):\n",
    "    end = min(len(chunks_text), i+batch_size)\n",
    "    batch = chunks_text[i:end]\n",
    "    batch_embeddings = model.encode(batch)\n",
    "    embeddings.extend(batch_embeddings)"
   ],
   "id": "f1ee9599d05c50c7"
  },
  {
   "metadata": {},
   "cell_type": "markdown",
   "source": "## (Optional) Save embeddings as .npy ",
   "id": "154db6209e659584"
  },
  {
   "metadata": {},
   "cell_type": "code",
   "outputs": [],
   "execution_count": null,
   "source": [
    "embeddings_path = \"\"    # TODO: Path for embeddings to be saved as .npy\n",
    "np.save(f\"{embeddings_path}/embeddings.npy\", embeddings)"
   ],
   "id": "ad07657397f6b69d"
  },
  {
   "metadata": {},
   "cell_type": "code",
   "outputs": [],
   "execution_count": null,
   "source": [
    "# load embeddings:\n",
    "embeddings = np.load(f\"{embeddings_path}/embeddings.npy\")"
   ],
   "id": "ae450f738a241eb4"
  },
  {
   "metadata": {},
   "cell_type": "markdown",
   "source": "## Identify metadata of chunk and create format for upsertion",
   "id": "f6f0a7cdad526294"
  },
  {
   "metadata": {},
   "cell_type": "code",
   "outputs": [],
   "execution_count": null,
   "source": [
    "def get_metadata_dict(file_nr: int) -> str:\n",
    "    \"\"\"\n",
    "    Retrives the Metadata of a modulehandbook, based on the file number.\n",
    "    :param file_nr: The file number of the modulehandbook.\n",
    "    :return: Metadatainformation as dict.\n",
    "    \"\"\"\n",
    "    df_meta_data = pd.read_csv(r\"C:\\Users\\Anton\\Desktop\\RAG-Data\\Modulhandbücher2024\\study_programs_filtered.csv\", sep=\";\", encoding=\"latin1\")\n",
    "    metadata = df_meta_data.loc[df_meta_data['identifier'] == file_nr,].reset_index(drop=True)\n",
    "    wanted_information = [\"study_program\", \"university\", \"study_form\", \"degree\", \"type\", \"identifier\", \"location\", \"website\", \"fields\"]\n",
    "    metadata_list = metadata.loc[0, wanted_information].astype(str).tolist()\n",
    "    metadata_dict = {\n",
    "            \"Modulhandbuch Nr.\": metadata_list[5],\n",
    "            \"Studiengang\": metadata_list[0],\n",
    "            \"Grad\": metadata_list[3],\n",
    "            \"Studiengang-Form\": metadata_list[2],\n",
    "            \"Hochschule\": metadata_list[1],\n",
    "            \"Typ\": metadata_list[4],\n",
    "            \"Standort\": metadata_list[6],\n",
    "            \"Themenfelder\": metadata_list[8],\n",
    "            \"Link\": metadata_list[7]\n",
    "    }\n",
    "    \n",
    "    return metadata_dict"
   ],
   "id": "be2218c759a8be34"
  },
  {
   "metadata": {},
   "cell_type": "code",
   "outputs": [],
   "execution_count": null,
   "source": [
    "resulting_list = [] # list of embeddings per chunk with metadata\n",
    "\n",
    "for row in tqdm(df.itertuples(index=False), total=len(chunks_text), desc=\"Embedding Chunks...\"):\n",
    "    identifier = f\"mh{row[0]}ch{row[1]}\"\n",
    "    values = model.encode(row[2])\n",
    "    metadata = get_metadata_dict(row[0])\n",
    "    # create entry based on pinecone upesertion-structure\n",
    "    entry = {\n",
    "        \"id\": identifier,\n",
    "        \"values\": values,\n",
    "        \"metadata\": metadata\n",
    "    }\n",
    "    resulting_list.append(entry)    # type = ndarray"
   ],
   "id": "3298126a8c46172a"
  },
  {
   "metadata": {},
   "cell_type": "code",
   "outputs": [],
   "execution_count": null,
   "source": [
    "def convert_ndarray_to_list(obj):\n",
    "    if isinstance(obj, np.ndarray):\n",
    "        return obj.tolist()\n",
    "    elif isinstance(obj, dict):\n",
    "        return {k: convert_ndarray_to_list(v) for k, v in obj.items()}\n",
    "    elif isinstance(obj, list):\n",
    "        return [convert_ndarray_to_list(i) for i in obj]\n",
    "    else:\n",
    "        return obj"
   ],
   "id": "62a9dae458d266a"
  },
  {
   "metadata": {},
   "cell_type": "code",
   "outputs": [],
   "execution_count": null,
   "source": "resulting_list_converted = convert_ndarray_to_list(resulting_list)",
   "id": "4c14eced3dcebda2"
  },
  {
   "metadata": {},
   "cell_type": "markdown",
   "source": "# Save embeddings with metadata per chunk as json",
   "id": "d1d23a00ab667a74"
  },
  {
   "metadata": {},
   "cell_type": "code",
   "outputs": [],
   "execution_count": null,
   "source": [
    "with open(json_output_path, 'w', encoding='utf-8') as f:\n",
    "    json.dump(resulting_list_converted, f, ensure_ascii=False, indent=4)"
   ],
   "id": "3a6720bbdde67a08"
  }
 ],
 "metadata": {
  "kernelspec": {
   "display_name": "Python 3",
   "language": "python",
   "name": "python3"
  },
  "language_info": {
   "codemirror_mode": {
    "name": "ipython",
    "version": 2
   },
   "file_extension": ".py",
   "mimetype": "text/x-python",
   "name": "python",
   "nbconvert_exporter": "python",
   "pygments_lexer": "ipython2",
   "version": "2.7.6"
  }
 },
 "nbformat": 4,
 "nbformat_minor": 5
}
