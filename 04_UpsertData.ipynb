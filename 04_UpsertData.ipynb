{
 "cells": [
  {
   "cell_type": "code",
   "execution_count": null,
   "id": "initial_id",
   "metadata": {
    "collapsed": true
   },
   "outputs": [],
   "source": [
    "from pinecone import Pinecone, ServerlessSpec\n",
    "import itertools\n",
    "from tqdm import tqdm\n",
    "import json"
   ]
  },
  {
   "metadata": {},
   "cell_type": "markdown",
   "source": "# Environment variables",
   "id": "e6d23ab62c6d168c"
  },
  {
   "metadata": {
    "ExecuteTime": {
     "end_time": "2024-09-13T15:53:35.121191Z",
     "start_time": "2024-09-13T15:53:35.104183Z"
    }
   },
   "cell_type": "code",
   "source": [
    "pinecone_api_key = \"\"   # TODO: Pinecone api key\n",
    "pinecone_index_name = \"\"    # TODO: Name of the pinecone index where the vectors will be stored\n",
    "json_filepath = \"\"      # TODO: Path to the json file from '03_Embedding.ipynb'"
   ],
   "id": "c134698ce9a8f457",
   "outputs": [],
   "execution_count": 1
  },
  {
   "metadata": {},
   "cell_type": "markdown",
   "source": "# Create new index (if none exists)",
   "id": "df4451bb07db57c6"
  },
  {
   "metadata": {},
   "cell_type": "code",
   "outputs": [],
   "execution_count": null,
   "source": [
    "pc = Pinecone(api_key=pinecone_api_key)\n",
    "\n",
    "pc.create_index(\n",
    "    name=pinecone_index_name,\n",
    "    dimension=384,\n",
    "    metric=\"cosine\",\n",
    "    spec=ServerlessSpec(\n",
    "        cloud=\"aws\",\n",
    "        region=\"us-east-1\"\n",
    "    )\n",
    ")"
   ],
   "id": "96a4932049d92b58"
  },
  {
   "metadata": {},
   "cell_type": "markdown",
   "source": "# Setup index",
   "id": "4a31671016a167aa"
  },
  {
   "metadata": {
    "ExecuteTime": {
     "end_time": "2024-09-13T15:57:51.494318Z",
     "start_time": "2024-09-13T15:57:51.202707Z"
    }
   },
   "cell_type": "code",
   "source": "index = pc.Index(pinecone_index_name)",
   "id": "d660a3cfe0b1fca7",
   "outputs": [
    {
     "ename": "NameError",
     "evalue": "name 'pc' is not defined",
     "output_type": "error",
     "traceback": [
      "\u001B[1;31m---------------------------------------------------------------------------\u001B[0m",
      "\u001B[1;31mNameError\u001B[0m                                 Traceback (most recent call last)",
      "Cell \u001B[1;32mIn[2], line 1\u001B[0m\n\u001B[1;32m----> 1\u001B[0m index \u001B[38;5;241m=\u001B[39m \u001B[43mpc\u001B[49m\u001B[38;5;241m.\u001B[39mIndex(pinecone_index_name)\n",
      "\u001B[1;31mNameError\u001B[0m: name 'pc' is not defined"
     ]
    }
   ],
   "execution_count": 2
  },
  {
   "metadata": {},
   "cell_type": "markdown",
   "source": "# Load json data from '03_Embedding.ipynb'",
   "id": "6c7c1121ad40f9cd"
  },
  {
   "metadata": {},
   "cell_type": "code",
   "outputs": [],
   "execution_count": null,
   "source": [
    "with open(json_filepath, \"r\") as file:\n",
    "    vectors = json.load(file)"
   ],
   "id": "129387ed7bc9bb18"
  },
  {
   "metadata": {},
   "cell_type": "markdown",
   "source": "# Upsert vectors to pinecone",
   "id": "dc904b9ce66cbea"
  },
  {
   "metadata": {},
   "cell_type": "code",
   "outputs": [],
   "execution_count": null,
   "source": [
    "def chunks(iterable, batch_size=100):\n",
    "    \"\"\"A helper function to break an iterable into chunks of size batch_size.\"\"\"\n",
    "    it = iter(iterable)\n",
    "    chunk = tuple(itertools.islice(it, batch_size))\n",
    "    while chunk:\n",
    "        yield chunk\n",
    "        chunk = tuple(itertools.islice(it, batch_size))"
   ],
   "id": "b8e784a190aeda11"
  },
  {
   "metadata": {},
   "cell_type": "code",
   "outputs": [],
   "execution_count": null,
   "source": [
    "for vec_chunks in tqdm(chunks(vectors, batch_size=100)):\n",
    "    index.upsert(vectors=vec_chunks)"
   ],
   "id": "444cf7cab3f5ddc8"
  }
 ],
 "metadata": {
  "kernelspec": {
   "display_name": "Python 3",
   "language": "python",
   "name": "python3"
  },
  "language_info": {
   "codemirror_mode": {
    "name": "ipython",
    "version": 2
   },
   "file_extension": ".py",
   "mimetype": "text/x-python",
   "name": "python",
   "nbconvert_exporter": "python",
   "pygments_lexer": "ipython2",
   "version": "2.7.6"
  }
 },
 "nbformat": 4,
 "nbformat_minor": 5
}
