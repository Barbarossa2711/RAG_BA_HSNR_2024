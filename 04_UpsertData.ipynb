{
 "cells": [
  {
   "cell_type": "code",
   "id": "initial_id",
   "metadata": {
    "collapsed": true,
    "ExecuteTime": {
     "end_time": "2024-09-14T10:17:19.836718Z",
     "start_time": "2024-09-14T10:17:19.640501Z"
    }
   },
   "source": [
    "from pinecone import Pinecone, ServerlessSpec\n",
    "import itertools\n",
    "from tqdm import tqdm\n",
    "import json"
   ],
   "outputs": [],
   "execution_count": 1
  },
  {
   "metadata": {},
   "cell_type": "markdown",
   "source": "# Environment variables",
   "id": "e6d23ab62c6d168c"
  },
  {
   "metadata": {
    "ExecuteTime": {
     "end_time": "2024-09-14T10:18:51.351437Z",
     "start_time": "2024-09-14T10:18:51.339438Z"
    }
   },
   "cell_type": "code",
   "source": [
    "pinecone_api_key = \"\"   # TODO: Pinecone api key\n",
    "pinecone_index_name = \"\"    # TODO: Name of the pinecone index where the vectors will be stored\n",
    "json_filepath = \"\"      # TODO: Path to the json file from '03_Embedding.ipynb'"
   ],
   "id": "c134698ce9a8f457",
   "outputs": [],
   "execution_count": 4
  },
  {
   "metadata": {},
   "cell_type": "markdown",
   "source": "# Create new index (if none exists)",
   "id": "df4451bb07db57c6"
  },
  {
   "metadata": {
    "ExecuteTime": {
     "end_time": "2024-09-14T10:19:03.180543Z",
     "start_time": "2024-09-14T10:18:52.379293Z"
    }
   },
   "cell_type": "code",
   "source": [
    "pc = Pinecone(api_key=pinecone_api_key)\n",
    "\n",
    "pc.create_index(\n",
    "    name=pinecone_index_name,\n",
    "    dimension=384,\n",
    "    metric=\"cosine\",\n",
    "    spec=ServerlessSpec(\n",
    "        cloud=\"aws\",\n",
    "        region=\"us-east-1\"\n",
    "    )\n",
    ")"
   ],
   "id": "96a4932049d92b58",
   "outputs": [],
   "execution_count": 5
  },
  {
   "metadata": {},
   "cell_type": "markdown",
   "source": "# Setup index",
   "id": "4a31671016a167aa"
  },
  {
   "metadata": {
    "ExecuteTime": {
     "end_time": "2024-09-14T10:19:30.556525Z",
     "start_time": "2024-09-14T10:19:30.357670Z"
    }
   },
   "cell_type": "code",
   "source": "index = pc.Index(pinecone_index_name)",
   "id": "d660a3cfe0b1fca7",
   "outputs": [],
   "execution_count": 6
  },
  {
   "metadata": {},
   "cell_type": "markdown",
   "source": "# Load json data from '03_Embedding.ipynb'",
   "id": "6c7c1121ad40f9cd"
  },
  {
   "metadata": {
    "ExecuteTime": {
     "end_time": "2024-09-14T10:19:34.731210Z",
     "start_time": "2024-09-14T10:19:33.290076Z"
    }
   },
   "cell_type": "code",
   "source": [
    "with open(json_filepath, \"r\") as file:\n",
    "    vectors = json.load(file)"
   ],
   "id": "129387ed7bc9bb18",
   "outputs": [],
   "execution_count": 7
  },
  {
   "metadata": {},
   "cell_type": "markdown",
   "source": "# Upsert vectors to pinecone",
   "id": "dc904b9ce66cbea"
  },
  {
   "metadata": {
    "ExecuteTime": {
     "end_time": "2024-09-14T10:19:38.218463Z",
     "start_time": "2024-09-14T10:19:38.211465Z"
    }
   },
   "cell_type": "code",
   "source": [
    "def chunks(iterable, batch_size=100):\n",
    "    \"\"\"A helper function to break an iterable into chunks of size batch_size.\"\"\"\n",
    "    it = iter(iterable)\n",
    "    chunk = tuple(itertools.islice(it, batch_size))\n",
    "    while chunk:\n",
    "        yield chunk\n",
    "        chunk = tuple(itertools.islice(it, batch_size))"
   ],
   "id": "b8e784a190aeda11",
   "outputs": [],
   "execution_count": 8
  },
  {
   "metadata": {
    "ExecuteTime": {
     "end_time": "2024-09-14T10:20:15.293713Z",
     "start_time": "2024-09-14T10:19:40.226994Z"
    }
   },
   "cell_type": "code",
   "source": [
    "for vec_chunks in tqdm(chunks(vectors, batch_size=100)):\n",
    "    index.upsert(vectors=vec_chunks)"
   ],
   "id": "444cf7cab3f5ddc8",
   "outputs": [
    {
     "name": "stderr",
     "output_type": "stream",
     "text": [
      "101it [00:35,  2.88it/s]\n"
     ]
    }
   ],
   "execution_count": 9
  }
 ],
 "metadata": {
  "kernelspec": {
   "display_name": "Python 3",
   "language": "python",
   "name": "python3"
  },
  "language_info": {
   "codemirror_mode": {
    "name": "ipython",
    "version": 2
   },
   "file_extension": ".py",
   "mimetype": "text/x-python",
   "name": "python",
   "nbconvert_exporter": "python",
   "pygments_lexer": "ipython2",
   "version": "2.7.6"
  }
 },
 "nbformat": 4,
 "nbformat_minor": 5
}
