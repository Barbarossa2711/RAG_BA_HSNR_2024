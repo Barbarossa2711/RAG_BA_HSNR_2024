{
 "cells": [
  {
   "metadata": {},
   "cell_type": "markdown",
   "source": "# The 'RetrievalAugmentedGenerationSystem.py' implements queries",
   "id": "51365340b5f4dd2b"
  },
  {
   "cell_type": "code",
   "execution_count": null,
   "id": "initial_id",
   "metadata": {
    "collapsed": true
   },
   "outputs": [],
   "source": "import RetrievalAugmentedGenerationSystem as rags"
  },
  {
   "metadata": {},
   "cell_type": "code",
   "outputs": [],
   "execution_count": null,
   "source": "pinecone_api_key = \"\"   # TODO: Pinecone api key",
   "id": "289973e712796327"
  },
  {
   "metadata": {},
   "cell_type": "code",
   "outputs": [],
   "execution_count": null,
   "source": "rag = rags.RAG(pinecone_api_key)",
   "id": "f195675659464aec"
  },
  {
   "metadata": {},
   "cell_type": "code",
   "outputs": [],
   "execution_count": null,
   "source": [
    "q = \"An welcher Universität kann ich Fächer belegen, die sich mit Machine Learning beschäftigen?\"\n",
    "\n",
    "result = rag.query(question=q, pinecone_index_name=\"paraphrase-minilm-embeddings\")\n",
    "print(result)"
   ],
   "id": "64efbc52e5502d66"
  }
 ],
 "metadata": {
  "kernelspec": {
   "display_name": "Python 3",
   "language": "python",
   "name": "python3"
  },
  "language_info": {
   "codemirror_mode": {
    "name": "ipython",
    "version": 2
   },
   "file_extension": ".py",
   "mimetype": "text/x-python",
   "name": "python",
   "nbconvert_exporter": "python",
   "pygments_lexer": "ipython2",
   "version": "2.7.6"
  }
 },
 "nbformat": 4,
 "nbformat_minor": 5
}
